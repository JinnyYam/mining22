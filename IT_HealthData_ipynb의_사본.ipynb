{
  "nbformat": 4,
  "nbformat_minor": 0,
  "metadata": {
    "colab": {
      "private_outputs": true,
      "provenance": [],
      "collapsed_sections": [],
      "authorship_tag": "ABX9TyNsUVzvGpd3MdSYYkLDi7GM",
      "include_colab_link": true
    },
    "kernelspec": {
      "name": "python3",
      "display_name": "Python 3"
    },
    "language_info": {
      "name": "python"
    }
  },
  "cells": [
    {
      "cell_type": "markdown",
      "metadata": {
        "id": "view-in-github",
        "colab_type": "text"
      },
      "source": [
        "<a href=\"https://colab.research.google.com/github/JinnyYam/mining22/blob/main/IT_HealthData_ipynb%EC%9D%98_%EC%82%AC%EB%B3%B8.ipynb\" target=\"_parent\"><img src=\"https://colab.research.google.com/assets/colab-badge.svg\" alt=\"Open In Colab\"/></a>"
      ]
    },
    {
      "cell_type": "code",
      "execution_count": null,
      "metadata": {
        "id": "yFpTTB-S69H0"
      },
      "outputs": [],
      "source": [
        "from google.colab import drive\n",
        "drive.mount('/content/drive',force_remount=True)\n",
        "import pandas as pd                  # 판다스 임포트\n",
        "import matplotlib as mpl               # 기본 설정\n",
        "import matplotlib.pyplot as plt      # 맷플롭 임포트\n",
        "import seaborn as sns               # 시본 임포트\n",
        "\n",
        "\n",
        "data=pd.read_csv(\"/content/drive/MyDrive/Colab Notebooks/BigMining/health_data.csv\")\n",
        "sns.set_style(\"whitegrid\")\n",
        "\n",
        "data.info()\n"
      ]
    },
    {
      "cell_type": "code",
      "source": [
        "import numpy as np\n",
        "### 1.남녀별 흡연과 음주 여부\n",
        "## 데이터 전처리 \n",
        "data1=data[['sex','smoking','drinking']]\n",
        "data1=data1.dropna(axis=0)\n",
        "data1_M=data1[data1['sex']=='M']\n",
        "data1_F=data1[data1['sex']=='F']\n",
        "data1_M=data1_M.set_index('sex')\n",
        "data1_F=data1_F.set_index('sex')\n",
        "\n",
        "## 남녀 막대 그래프 그리기 \n",
        "# male 막대 그래프\n",
        "plt.figure()\n",
        "plt.title('Male',fontsize=20)\n",
        "am=sns.countplot(data=data1_M,x='smoking',hue='drinking')\n",
        "for p in am.patches:\n",
        "    height = p.get_height()\n",
        "    am.text(p.get_x() + p.get_width() / 2., height + 3, height, ha = 'center', size = 9)\n",
        "plt.show()\n",
        "# female 막대 그래프\n",
        "plt.figure()\n",
        "plt.title('Female',fontsize=20)\n",
        "am=sns.countplot(data=data1_F,x='smoking',hue='drinking')\n",
        "for p in am.patches:\n",
        "    height = p.get_height()\n",
        "    am.text(p.get_x() + p.get_width() / 2., height + 3, height, ha = 'center', size = 9)\n",
        "plt.show()\n",
        "\n",
        "#####################인사이트 도출########################\n",
        "#1. 훨씬 많은 수의 남성이 여성보다 흡연을 많이 한다\n",
        "#2. 담배를 핀 경험이 있는 여성들 중에 술을 먹지않는 사람의 숫자가 더 많다\n",
        "#3. 담배는 피지 않아도 술은 마신다."
      ],
      "metadata": {
        "id": "h4GmyuWYNrkv"
      },
      "execution_count": null,
      "outputs": []
    },
    {
      "cell_type": "code",
      "source": [
        "### 2. 나이대별 키의 평균 (박스 그래프)\n",
        "data2=data[['sex','age','height']]\n",
        "sns.boxplot(data = data2, x = 'age', y = 'height',hue='sex')\n",
        "\n",
        "#####################인사이트 도출########################\n",
        "#1. 나이가 들수록 평균 키는 낮아진다.\n",
        "#2. 70대와 80대의 키의 분포는 비슷하다\n",
        "#3. 키의 분산이 가장 큰 나이대는 40대 남성과 50대 여성이다.\n"
      ],
      "metadata": {
        "id": "xdlBBSepN_bA"
      },
      "execution_count": null,
      "outputs": []
    },
    {
      "cell_type": "code",
      "source": [
        "### 3. 나이에 따른 시력\n",
        "data3=data[['Lsight','Rsight','smoking']]\n",
        "data3=data3.dropna(axis=0)\n",
        "#시력이 9.9인 경우 행 제거 (실명 데이터 제거)\n",
        "del_Lindex=data3[data3['Lsight']==9.9].index\n",
        "data3.drop(del_Lindex,inplace=True)\n",
        "del_Rindex=data3[data3['Rsight']==9.9].index\n",
        "data3.drop(del_Rindex,inplace=True)\n",
        "\n",
        "sns.scatterplot(data = data3, y = 'Rsight',x='Lsight',hue='smoking',style='smoking',s=20)\n",
        "\n",
        "\n",
        "#####################인사이트 도출########################\n",
        "#1. 양쪽 눈의 시력이 비슷하지 않은 사람들이 생각보다 많다.\n",
        "#2. 시력은 흡연의 유무와는 관련이 없다."
      ],
      "metadata": {
        "id": "Nak5-bXjODlh"
      },
      "execution_count": null,
      "outputs": []
    }
  ]
}